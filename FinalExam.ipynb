{
 "cells": [
  {
   "cell_type": "markdown",
   "metadata": {
    "colab_type": "text",
    "deletable": false,
    "editable": false,
    "id": "KEJNlWSMKnH7"
   },
   "source": [
    "# Machine Learning\n"
   ]
  },
  {
   "cell_type": "markdown",
   "metadata": {},
   "source": [
    "## Student\n",
    "* Student Name:\n",
    "* Student ID:"
   ]
  },
  {
   "cell_type": "markdown",
   "metadata": {
    "colab_type": "text",
    "deletable": false,
    "editable": false,
    "id": "lFaiIBCcKnH_"
   },
   "source": [
    "### Rules\n",
    "1. This is a take-home exam.\n",
    "2. You are expected to complete and submit the exam by 27 - May - 2020, 15:00 GMT\n",
    "   + No late submissions will be allowed.\n",
    "   + Submit your exam through canvas.\n",
    "3. The exam is in English and you are expected to complete it in English.\n",
    "4. The exam requires coding and you are expected to code in Python 3.0.\n",
    "5. The exam is worth 100 points, and it will constitute 50% of your grade.\n",
    "6. To pass the course you need to obtain at least 50 points in this exam (and a 5.5 overall course grade)\n",
    "7. The exam describes a problem you will need to solve.\n",
    "8. This is an open-ended problem, which means that\n",
    "   + there is no single perfect solution, however \n",
    "   + there are still correct and incorrect things one may do, and\n",
    "   + there are certain best practices to follow.\n",
    "9. You are expected to complete this exam on your own. \n",
    "   + You are not allowed to discuss or share the exam, or share your solutions with anyone else.\n",
    "   + We run a plagiarism check both against the web and against all submitted exams. \n",
    "   + There are different ways to work on this problem. It would really be a coincidence if 2 students choose very similar way of solving it; if that is the case, we will take a closer look and we will invite the students to a short oral examination/discussion over their solutions.\n",
    "10. We will spend approximately 15 minutes to assess your work. So make sure that everything looks clear, is neatly documented, and that everything runs.\n",
    "11. You are allowed to import from the following APIs: sklearn, pandas, numpy, matplotlib, scipy, nltk. You are not allowed to use any other API."
   ]
  },
  {
   "cell_type": "markdown",
   "metadata": {
    "colab_type": "text",
    "deletable": false,
    "editable": false,
    "id": "794Hpqs8KnIA"
   },
   "source": [
    "### Instructions\n",
    "\n",
    "1. You are provided with a dataset of Airbnb listings for apartments in Amsterdam. Download the data to the same folder as this ipynb file.\n",
    "2. Each row in the listings corresponds to an appartment, and each column to an attribute/feature for that appartment.\n",
    "3. One of the attributes is the *price* of the apartment. Based on the actual price listings are split into two categories, *cheap* and *expensive*, which is the value of the attribute *price*.\n",
    "4. Your goal is to \n",
    "  1. classify listings into cheap and expensive by the means of machine learning, \n",
    "  2. discuss the quality of your classifier in terms of appropriate evaluation measures, using tables or plots for comparisons, and \n",
    "  3. compare it to a naive classifier.\n",
    "5. You can use numerical, categorical, and textual features you think can help, or derive features of your own from existing ones,  apply the right treatment to them, and build some simple classifiers over them. You should not use the features *neighborhood*, *longitude* and *latitude* (see point 6.).\n",
    "6. Two of the features are the *longitude* and the *latitude* of the apartment. Together these two numbers tell you the precise location of a listing in Amsterdam. You should use  these two numbers, but you are not allowed to use them directly. Instead, you are expected to cluster listings, based on these two numbers, into a number of clusters/neightborhoods, and use the neighborhood cluster as a feature.\n",
    "7. You must demonstrate that you are constructing the best possible classifier, that is you should run all those experiments needed to persuade us that you have achieved optimal performance, using everything that you were taught by this class.\n",
    "8. You are expected to explain what are you doing at every step and argue about your choices on the basis of the course."
   ]
  },
  {
   "cell_type": "markdown",
   "metadata": {
    "colab_type": "text",
    "id": "MM2jkJ7OKnIC"
   },
   "source": [
    "## Exam"
   ]
  },
  {
   "cell_type": "code",
   "execution_count": 15,
   "metadata": {},
   "outputs": [],
   "source": [
    "import sklearn, pandas, numpy, matplotlib, scipy, nltk"
   ]
  },
  {
   "cell_type": "markdown",
   "metadata": {
    "colab_type": "text",
    "id": "EM5iHGF8KnID"
   },
   "source": [
    "### 1. Load the dataset and make choices on how to treat it (e.g. split, balance, impute, etc.) (5 points)"
   ]
  },
  {
   "cell_type": "markdown",
   "metadata": {},
   "source": [
    "i import data and appropriate APIs and print first rows of data"
   ]
  },
  {
   "cell_type": "code",
   "execution_count": 16,
   "metadata": {
    "colab": {},
    "colab_type": "code",
    "id": "vSDZ_pT3KnIq",
    "outputId": "4d78830a-98c8-4ea9-edc9-09de0b840d70"
   },
   "outputs": [
    {
     "name": "stdout",
     "output_type": "stream",
     "text": [
      "9408\n"
     ]
    },
    {
     "data": {
      "text/html": [
       "<div>\n",
       "<style scoped>\n",
       "    .dataframe tbody tr th:only-of-type {\n",
       "        vertical-align: middle;\n",
       "    }\n",
       "\n",
       "    .dataframe tbody tr th {\n",
       "        vertical-align: top;\n",
       "    }\n",
       "\n",
       "    .dataframe thead th {\n",
       "        text-align: right;\n",
       "    }\n",
       "</style>\n",
       "<table border=\"1\" class=\"dataframe\">\n",
       "  <thead>\n",
       "    <tr style=\"text-align: right;\">\n",
       "      <th></th>\n",
       "      <th>id</th>\n",
       "      <th>listing_url</th>\n",
       "      <th>name</th>\n",
       "      <th>summary</th>\n",
       "      <th>description</th>\n",
       "      <th>experiences_offered</th>\n",
       "      <th>neighbourhood</th>\n",
       "      <th>latitude</th>\n",
       "      <th>longitude</th>\n",
       "      <th>property_type</th>\n",
       "      <th>...</th>\n",
       "      <th>review_scores_location</th>\n",
       "      <th>review_scores_value</th>\n",
       "      <th>requires_license</th>\n",
       "      <th>jurisdiction_names</th>\n",
       "      <th>instant_bookable</th>\n",
       "      <th>is_business_travel_ready</th>\n",
       "      <th>cancellation_policy</th>\n",
       "      <th>require_guest_profile_picture</th>\n",
       "      <th>require_guest_phone_verification</th>\n",
       "      <th>reviews_per_month</th>\n",
       "    </tr>\n",
       "  </thead>\n",
       "  <tbody>\n",
       "    <tr>\n",
       "      <td>0</td>\n",
       "      <td>2818</td>\n",
       "      <td>https://www.airbnb.com/rooms/2818</td>\n",
       "      <td>Quiet Garden View Room &amp; Super Fast WiFi</td>\n",
       "      <td>Quiet Garden View Room &amp; Super Fast WiFi</td>\n",
       "      <td>Quiet Garden View Room &amp; Super Fast WiFi I'm r...</td>\n",
       "      <td>none</td>\n",
       "      <td>Indische Buurt</td>\n",
       "      <td>52.36575</td>\n",
       "      <td>4.94142</td>\n",
       "      <td>Apartment</td>\n",
       "      <td>...</td>\n",
       "      <td>9.0</td>\n",
       "      <td>10.0</td>\n",
       "      <td>f</td>\n",
       "      <td>{Amsterdam,\" NL Zip Codes 2\",\" Amsterdam\",\" NL\"}</td>\n",
       "      <td>t</td>\n",
       "      <td>f</td>\n",
       "      <td>strict_14_with_grace_period</td>\n",
       "      <td>f</td>\n",
       "      <td>f</td>\n",
       "      <td>2.06</td>\n",
       "    </tr>\n",
       "    <tr>\n",
       "      <td>1</td>\n",
       "      <td>27886</td>\n",
       "      <td>https://www.airbnb.com/rooms/27886</td>\n",
       "      <td>Romantic, stylish B&amp;B houseboat in canal district</td>\n",
       "      <td>Stylish and romantic houseboat on fantastic hi...</td>\n",
       "      <td>Stylish and romantic houseboat on fantastic hi...</td>\n",
       "      <td>none</td>\n",
       "      <td>Westelijke Eilanden</td>\n",
       "      <td>52.38761</td>\n",
       "      <td>4.89188</td>\n",
       "      <td>Houseboat</td>\n",
       "      <td>...</td>\n",
       "      <td>10.0</td>\n",
       "      <td>10.0</td>\n",
       "      <td>f</td>\n",
       "      <td>{Amsterdam,\" NL Zip Codes 2\",\" Amsterdam\",\" NL\"}</td>\n",
       "      <td>t</td>\n",
       "      <td>f</td>\n",
       "      <td>strict_14_with_grace_period</td>\n",
       "      <td>f</td>\n",
       "      <td>f</td>\n",
       "      <td>2.15</td>\n",
       "    </tr>\n",
       "    <tr>\n",
       "      <td>2</td>\n",
       "      <td>29051</td>\n",
       "      <td>https://www.airbnb.com/rooms/29051</td>\n",
       "      <td>Comfortable single room</td>\n",
       "      <td>because of the city imposing a 4 paying guest ...</td>\n",
       "      <td>because of the city imposing a 4 paying guest ...</td>\n",
       "      <td>none</td>\n",
       "      <td>Amsterdam Centrum</td>\n",
       "      <td>52.36773</td>\n",
       "      <td>4.89151</td>\n",
       "      <td>Apartment</td>\n",
       "      <td>...</td>\n",
       "      <td>10.0</td>\n",
       "      <td>9.0</td>\n",
       "      <td>f</td>\n",
       "      <td>{Amsterdam,\" NL Zip Codes 2\",\" Amsterdam\",\" NL\"}</td>\n",
       "      <td>f</td>\n",
       "      <td>f</td>\n",
       "      <td>moderate</td>\n",
       "      <td>f</td>\n",
       "      <td>f</td>\n",
       "      <td>4.33</td>\n",
       "    </tr>\n",
       "    <tr>\n",
       "      <td>3</td>\n",
       "      <td>42970</td>\n",
       "      <td>https://www.airbnb.com/rooms/42970</td>\n",
       "      <td>Comfortable room@PERFECT location + 2 bikes</td>\n",
       "      <td>A home away from home Great location Including...</td>\n",
       "      <td>A home away from home Great location Including...</td>\n",
       "      <td>none</td>\n",
       "      <td>Amsterdam Centrum</td>\n",
       "      <td>52.36781</td>\n",
       "      <td>4.89001</td>\n",
       "      <td>Bed and breakfast</td>\n",
       "      <td>...</td>\n",
       "      <td>10.0</td>\n",
       "      <td>9.0</td>\n",
       "      <td>f</td>\n",
       "      <td>{Amsterdam,\" NL Zip Codes 2\",\" Amsterdam\",\" NL\"}</td>\n",
       "      <td>t</td>\n",
       "      <td>f</td>\n",
       "      <td>strict_14_with_grace_period</td>\n",
       "      <td>f</td>\n",
       "      <td>t</td>\n",
       "      <td>4.02</td>\n",
       "    </tr>\n",
       "    <tr>\n",
       "      <td>4</td>\n",
       "      <td>48076</td>\n",
       "      <td>https://www.airbnb.com/rooms/48076</td>\n",
       "      <td>Amsterdam Central and lot of space</td>\n",
       "      <td>third floor apartment two bedrooms,bathroom,te...</td>\n",
       "      <td>third floor apartment two bedrooms,bathroom,te...</td>\n",
       "      <td>none</td>\n",
       "      <td>Grachtengordel</td>\n",
       "      <td>52.38042</td>\n",
       "      <td>4.89453</td>\n",
       "      <td>Bed and breakfast</td>\n",
       "      <td>...</td>\n",
       "      <td>10.0</td>\n",
       "      <td>9.0</td>\n",
       "      <td>f</td>\n",
       "      <td>{Amsterdam,\" NL Zip Codes 2\",\" Amsterdam\",\" NL\"}</td>\n",
       "      <td>t</td>\n",
       "      <td>f</td>\n",
       "      <td>strict_14_with_grace_period</td>\n",
       "      <td>f</td>\n",
       "      <td>t</td>\n",
       "      <td>2.00</td>\n",
       "    </tr>\n",
       "  </tbody>\n",
       "</table>\n",
       "<p>5 rows × 49 columns</p>\n",
       "</div>"
      ],
      "text/plain": [
       "      id                         listing_url  \\\n",
       "0   2818   https://www.airbnb.com/rooms/2818   \n",
       "1  27886  https://www.airbnb.com/rooms/27886   \n",
       "2  29051  https://www.airbnb.com/rooms/29051   \n",
       "3  42970  https://www.airbnb.com/rooms/42970   \n",
       "4  48076  https://www.airbnb.com/rooms/48076   \n",
       "\n",
       "                                                name  \\\n",
       "0           Quiet Garden View Room & Super Fast WiFi   \n",
       "1  Romantic, stylish B&B houseboat in canal district   \n",
       "2                            Comfortable single room   \n",
       "3        Comfortable room@PERFECT location + 2 bikes   \n",
       "4                 Amsterdam Central and lot of space   \n",
       "\n",
       "                                             summary  \\\n",
       "0           Quiet Garden View Room & Super Fast WiFi   \n",
       "1  Stylish and romantic houseboat on fantastic hi...   \n",
       "2  because of the city imposing a 4 paying guest ...   \n",
       "3  A home away from home Great location Including...   \n",
       "4  third floor apartment two bedrooms,bathroom,te...   \n",
       "\n",
       "                                         description experiences_offered  \\\n",
       "0  Quiet Garden View Room & Super Fast WiFi I'm r...                none   \n",
       "1  Stylish and romantic houseboat on fantastic hi...                none   \n",
       "2  because of the city imposing a 4 paying guest ...                none   \n",
       "3  A home away from home Great location Including...                none   \n",
       "4  third floor apartment two bedrooms,bathroom,te...                none   \n",
       "\n",
       "         neighbourhood  latitude  longitude      property_type  ...  \\\n",
       "0       Indische Buurt  52.36575    4.94142          Apartment  ...   \n",
       "1  Westelijke Eilanden  52.38761    4.89188          Houseboat  ...   \n",
       "2    Amsterdam Centrum  52.36773    4.89151          Apartment  ...   \n",
       "3    Amsterdam Centrum  52.36781    4.89001  Bed and breakfast  ...   \n",
       "4       Grachtengordel  52.38042    4.89453  Bed and breakfast  ...   \n",
       "\n",
       "  review_scores_location  review_scores_value  requires_license  \\\n",
       "0                    9.0                 10.0                 f   \n",
       "1                   10.0                 10.0                 f   \n",
       "2                   10.0                  9.0                 f   \n",
       "3                   10.0                  9.0                 f   \n",
       "4                   10.0                  9.0                 f   \n",
       "\n",
       "                                 jurisdiction_names  instant_bookable  \\\n",
       "0  {Amsterdam,\" NL Zip Codes 2\",\" Amsterdam\",\" NL\"}                 t   \n",
       "1  {Amsterdam,\" NL Zip Codes 2\",\" Amsterdam\",\" NL\"}                 t   \n",
       "2  {Amsterdam,\" NL Zip Codes 2\",\" Amsterdam\",\" NL\"}                 f   \n",
       "3  {Amsterdam,\" NL Zip Codes 2\",\" Amsterdam\",\" NL\"}                 t   \n",
       "4  {Amsterdam,\" NL Zip Codes 2\",\" Amsterdam\",\" NL\"}                 t   \n",
       "\n",
       "  is_business_travel_ready          cancellation_policy  \\\n",
       "0                        f  strict_14_with_grace_period   \n",
       "1                        f  strict_14_with_grace_period   \n",
       "2                        f                     moderate   \n",
       "3                        f  strict_14_with_grace_period   \n",
       "4                        f  strict_14_with_grace_period   \n",
       "\n",
       "  require_guest_profile_picture  require_guest_phone_verification  \\\n",
       "0                             f                                 f   \n",
       "1                             f                                 f   \n",
       "2                             f                                 f   \n",
       "3                             f                                 t   \n",
       "4                             f                                 t   \n",
       "\n",
       "  reviews_per_month  \n",
       "0              2.06  \n",
       "1              2.15  \n",
       "2              4.33  \n",
       "3              4.02  \n",
       "4              2.00  \n",
       "\n",
       "[5 rows x 49 columns]"
      ]
     },
     "execution_count": 16,
     "metadata": {},
     "output_type": "execute_result"
    }
   ],
   "source": [
    "# Your code goes here\n",
    "\n",
    "import pandas as pd\n",
    "import matplotlib.pyplot as plt\n",
    "import numpy as np\n",
    "import numpy.random as nr\n",
    "import warnings\n",
    "warnings.filterwarnings('ignore')\n",
    "\n",
    "data = pd.read_csv(\"exam_listings.csv\")  \n",
    "print(len(data))\n",
    "data.head()\n"
   ]
  },
  {
   "cell_type": "code",
   "execution_count": 17,
   "metadata": {},
   "outputs": [],
   "source": [
    "# split data\n",
    "x = data.loc[:, data.columns != \"price\"]\n",
    "#separate class variable\n",
    "y = data.loc[:,data.columns == \"price\"]"
   ]
  },
  {
   "cell_type": "code",
   "execution_count": 18,
   "metadata": {},
   "outputs": [
    {
     "data": {
      "text/plain": [
       "Index(['id', 'listing_url', 'name', 'summary', 'description',\n",
       "       'experiences_offered', 'neighbourhood', 'latitude', 'longitude',\n",
       "       'property_type', 'room_type', 'accommodates', 'bathrooms', 'bedrooms',\n",
       "       'beds', 'bed_type', 'amenities', 'guests_included', 'extra_people',\n",
       "       'minimum_nights', 'maximum_nights', 'minimum_minimum_nights',\n",
       "       'maximum_minimum_nights', 'minimum_maximum_nights',\n",
       "       'maximum_maximum_nights', 'minimum_nights_avg_ntm',\n",
       "       'maximum_nights_avg_ntm', 'availability_30', 'availability_60',\n",
       "       'availability_90', 'availability_365', 'number_of_reviews',\n",
       "       'number_of_reviews_ltm', 'review_scores_rating',\n",
       "       'review_scores_accuracy', 'review_scores_cleanliness',\n",
       "       'review_scores_checkin', 'review_scores_communication',\n",
       "       'review_scores_location', 'review_scores_value', 'requires_license',\n",
       "       'jurisdiction_names', 'instant_bookable', 'is_business_travel_ready',\n",
       "       'cancellation_policy', 'require_guest_profile_picture',\n",
       "       'require_guest_phone_verification', 'reviews_per_month'],\n",
       "      dtype='object')"
      ]
     },
     "execution_count": 18,
     "metadata": {},
     "output_type": "execute_result"
    }
   ],
   "source": [
    "x.columns"
   ]
  },
  {
   "cell_type": "markdown",
   "metadata": {
    "colab_type": "text",
    "id": "v2YmiVF2KnI0"
   },
   "source": [
    "### 2. Numerical Features (15 points)\n",
    "* Choose the numerical features you wish to use and pre-process them\n",
    "* Train a logistic regression classifier and demonstrate its performance with the right measures"
   ]
  },
  {
   "cell_type": "markdown",
   "metadata": {},
   "source": [
    "i extract numerical column from dataset and preprocess them, than i build logistic regression with 63% accuracy"
   ]
  },
  {
   "cell_type": "code",
   "execution_count": 19,
   "metadata": {
    "colab": {},
    "colab_type": "code",
    "id": "aYvIw6SbKnI1"
   },
   "outputs": [
    {
     "name": "stdout",
     "output_type": "stream",
     "text": [
      "0.6370220572706061\n"
     ]
    }
   ],
   "source": [
    "# Your code goes here\n",
    "from sklearn.model_selection import train_test_split\n",
    "from sklearn.linear_model import LogisticRegression\n",
    "from sklearn.metrics import mean_squared_error\n",
    "from sklearn.preprocessing import LabelEncoder\n",
    "#get all numerice column\n",
    "cols = x.columns\n",
    "num_cols = x._get_numeric_data().columns\n",
    "num_cols = x[num_cols]\n",
    "\n",
    "#label encoding\n",
    "le = LabelEncoder()\n",
    "y = y.apply(le.fit_transform)\n",
    "\n",
    "X_train, X_test, y_train, y_test = train_test_split( num_cols, y, test_size=0.33, random_state=42)\n",
    "#logistic Regression model\n",
    "model = LogisticRegression()\n",
    "#fit\n",
    "model.fit(X_train, y_train)\n",
    "#predict\n",
    "predictions = model.predict(X_test)\n",
    "#print\n",
    "print((np.sqrt(mean_squared_error(y_test, predictions))))"
   ]
  },
  {
   "cell_type": "markdown",
   "metadata": {},
   "source": [
    "*Explain what you observe and what is your conclusion regarding both classes*"
   ]
  },
  {
   "cell_type": "markdown",
   "metadata": {
    "colab_type": "text",
    "id": "n3N-HCeJKnI6"
   },
   "source": [
    "### 3. Categorical Features (15 points)\n",
    "* Choose the categorical features you wish to use and pre-process them\n",
    "* Train a logistic regression classifier and demonstrate its performance with the right measures"
   ]
  },
  {
   "cell_type": "markdown",
   "metadata": {},
   "source": [
    "i chose the categorical column from programming technique than preprocess column , and applied logistics regression with 50% accuracy"
   ]
  },
  {
   "cell_type": "code",
   "execution_count": 20,
   "metadata": {
    "colab": {},
    "colab_type": "code",
    "id": "hUfmiNe7KnI7"
   },
   "outputs": [
    {
     "name": "stdout",
     "output_type": "stream",
     "text": [
      "0.5098072004616178\n"
     ]
    }
   ],
   "source": [
    "#get all categorical columns\n",
    "cols = x.columns\n",
    "num_cols = x._get_numeric_data().columns\n",
    "num_cols = list(set(cols) - set(num_cols))\n",
    "num_cols = x[num_cols]\n",
    "\n",
    "#label encoding\n",
    "le = LabelEncoder()\n",
    "cat_cols = num_cols.apply(le.fit_transform)\n",
    "y = y.apply(le.fit_transform)\n",
    "X_train, X_test, y_train, y_test = train_test_split( cat_cols, y, test_size=0.33, random_state=42)\n",
    "\n",
    "model = LogisticRegression()\n",
    "model.fit(X_train, y_train)\n",
    "predictionsCat = model.predict(X_test)\n",
    "print((np.sqrt(mean_squared_error(y_test, predictionsCat))))"
   ]
  },
  {
   "cell_type": "markdown",
   "metadata": {},
   "source": [
    "in first model have high accuracy because numerical features is more than the categorical features"
   ]
  },
  {
   "cell_type": "markdown",
   "metadata": {
    "colab_type": "text",
    "id": "O2V_l78zKnI-"
   },
   "source": [
    "### 4. Textual Features (15 points)\n",
    "* Choose the textual features you wish to use and pre-process them \n",
    "* Train a logistic regression classifier and demonstrate its performance with the right measures"
   ]
  },
  {
   "cell_type": "markdown",
   "metadata": {
    "colab": {},
    "colab_type": "code",
    "id": "QqbnBKnLKnI_"
   },
   "source": [
    "i chosed some of the textual column in data because whole data is not in text format, then i will apply logistic regression , it is not easy to handle textual data in machine it required lots of technical knowledge"
   ]
  },
  {
   "cell_type": "code",
   "execution_count": 21,
   "metadata": {},
   "outputs": [
    {
     "name": "stdout",
     "output_type": "stream",
     "text": [
      "                                             summary  \\\n",
      "0           Quiet Garden View Room & Super Fast WiFi   \n",
      "1  Stylish and romantic houseboat on fantastic hi...   \n",
      "2  because of the city imposing a 4 paying guest ...   \n",
      "3  A home away from home Great location Including...   \n",
      "4  third floor apartment two bedrooms,bathroom,te...   \n",
      "5  Stylish & spacious guest suite in Amsterdam's ...   \n",
      "6  Book right away, ill do everything to get u an...   \n",
      "7  Amsterdam Aqua is my home. I live here  with m...   \n",
      "8  Large studio in quiet street but in a good are...   \n",
      "9  Our room with private bathroom (including show...   \n",
      "\n",
      "           cancellation_policy  \\\n",
      "0  strict_14_with_grace_period   \n",
      "1  strict_14_with_grace_period   \n",
      "2                     moderate   \n",
      "3  strict_14_with_grace_period   \n",
      "4  strict_14_with_grace_period   \n",
      "5  strict_14_with_grace_period   \n",
      "6  strict_14_with_grace_period   \n",
      "7  strict_14_with_grace_period   \n",
      "8                     moderate   \n",
      "9                     flexible   \n",
      "\n",
      "                                         description  \n",
      "0  Quiet Garden View Room & Super Fast WiFi I'm r...  \n",
      "1  Stylish and romantic houseboat on fantastic hi...  \n",
      "2  because of the city imposing a 4 paying guest ...  \n",
      "3  A home away from home Great location Including...  \n",
      "4  third floor apartment two bedrooms,bathroom,te...  \n",
      "5  Stylish & spacious guest suite in Amsterdam's ...  \n",
      "6  Book right away, ill do everything to get u an...  \n",
      "7  Amsterdam Aqua is my home. I live here  with m...  \n",
      "8  Large studio in quiet street but in a good are...  \n",
      "9  Our room with private bathroom (including show...  \n",
      "9408\n"
     ]
    }
   ],
   "source": [
    "from sklearn.feature_extraction.text import CountVectorizer, TfidfVectorizer\n",
    "from sklearn.metrics import accuracy_score, confusion_matrix\n",
    "import matplotlib.pyplot as plt\n",
    "from nltk.corpus import stopwords\n",
    "import re\n",
    "from bs4 import BeautifulSoup\n",
    "%matplotlib inline\n",
    "#text columns\n",
    "textualFeatures = x[['summary','cancellation_policy','description']]\n",
    "\n",
    "textualFeatures = textualFeatures[pd.notnull(textualFeatures[['summary','cancellation_policy','description']])]\n",
    "#print first 10 values\n",
    "print(textualFeatures.head(10))\n",
    "#split values\n",
    "print(textualFeatures['cancellation_policy'].apply(lambda x: len(x.split(' '))).sum())"
   ]
  },
  {
   "cell_type": "code",
   "execution_count": 22,
   "metadata": {},
   "outputs": [],
   "source": [
    "#regex\n",
    "REPLACE_BY_SPACE_RE = re.compile('[/(){}\\[\\]\\|@,;]')\n",
    "BAD_SYMBOLS_RE = re.compile('[^0-9a-z #+_]')\n",
    "STOPWORDS = set(stopwords.words('english'))\n",
    "\n",
    "def clean_text(text):\n",
    "    \"\"\"\n",
    "        text: a string\n",
    "        \n",
    "        return: modified initial string\n",
    "    \"\"\"\n",
    "    text = BeautifulSoup(text, \"lxml\").text # HTML decoding\n",
    "    text = text.lower() # lowercase text\n",
    "    text = REPLACE_BY_SPACE_RE.sub(' ', text) # replace REPLACE_BY_SPACE_RE symbols by space in text\n",
    "    text = BAD_SYMBOLS_RE.sub('', text) # delete symbols which are in BAD_SYMBOLS_RE from text\n",
    "    text = ' '.join(word for word in text.split() if word not in STOPWORDS) # delete stopwors from text\n",
    "    return text\n",
    "    \n",
    "textualFeatures['cancellation_policy'] = textualFeatures['cancellation_policy'].apply(clean_text)\n",
    "\n",
    "X = textualFeatures.cancellation_policy\n",
    "y = y\n",
    "X_train, X_test, y_train, y_test = train_test_split(X, y, test_size=0.3, random_state = 42)\n"
   ]
  },
  {
   "cell_type": "code",
   "execution_count": null,
   "metadata": {},
   "outputs": [],
   "source": [
    "from sklearn.linear_model import LogisticRegression\n",
    "from sklearn.feature_extraction.text import TfidfTransformer\n",
    "from sklearn.metrics import classification_report\n",
    "from sklearn.pipeline import Pipeline\n",
    "logreg = Pipeline([('vect', CountVectorizer()),\n",
    "                ('tfidf', TfidfTransformer()),\n",
    "                ('clf', LogisticRegression(n_jobs=1, C=1e5)),\n",
    "               ])\n",
    "logreg.fit(X_train, y_train)\n",
    "\n",
    "\n",
    "\n",
    "y_pred = logreg.predict(X_test)\n",
    "textAcc = accuracy_score(y_pred, y_test)\n",
    "print('accuracy %s' % accuracy_score(y_pred, y_test))\n",
    "print(classification_report(y_test, y_pred))"
   ]
  },
  {
   "cell_type": "markdown",
   "metadata": {},
   "source": [
    "*Explain what you observe and what is your conclusion regarding both classes*"
   ]
  },
  {
   "cell_type": "markdown",
   "metadata": {
    "colab_type": "text",
    "id": "F0w2wREgKnJD"
   },
   "source": [
    "### 5. Clustering (20 points)\n",
    "* Use *latitude* and *longitude* to cluster listings into neighborhoods\n",
    "* Use the feature 'neighborhood' included in the listings to evaluate your clustering\n",
    "* Visualize the listings using a scatter plot over *latitude* and *longitude* and a different color for each cluster\n",
    "* Use the cluster label as a listing feature for classification\n",
    "* Train a logistic regression classifier and demonstrate its performance with the right measures"
   ]
  },
  {
   "cell_type": "markdown",
   "metadata": {},
   "source": [
    "first i import model, then chose columns as said, then encode all columns, applying model and visualize it"
   ]
  },
  {
   "cell_type": "code",
   "execution_count": null,
   "metadata": {
    "colab": {},
    "colab_type": "code",
    "id": "HxrBEjPAKnJD",
    "outputId": "bcd1b00e-6a14-4171-8c0a-c32a43d47713"
   },
   "outputs": [],
   "source": [
    "# your code goes here\n",
    "from sklearn.cluster import KMeans\n",
    "#k means cluster coding is here\n",
    "cluster = x[[\"latitude\",'longitude','neighbourhood']]\n",
    "le = LabelEncoder()\n",
    "cluster = cluster.apply(le.fit_transform)\n",
    "kmeans = KMeans(n_clusters=44, random_state=0).fit(cluster)\n",
    "labels = kmeans.labels_\n"
   ]
  },
  {
   "cell_type": "code",
   "execution_count": null,
   "metadata": {},
   "outputs": [],
   "source": [
    "#visualization\n",
    "np.random.seed(200)\n",
    "k = 3\n",
    "centroids = {\n",
    "    i+1: [np.random.randint(0, 80), np.random.randint(0, 80)]\n",
    "    for i in range(k)\n",
    "}\n",
    "    \n",
    "fig = plt.figure(figsize=(5, 5))\n",
    "plt.scatter(cluster['longitude'], cluster['neighbourhood'], color='k')\n",
    "plt.scatter(cluster['latitude'], cluster['neighbourhood'], color='k')\n",
    "colmap = {1: 'r', 2: 'g', 3: 'b'}\n",
    "for i in centroids.keys():\n",
    "    plt.scatter(*centroids[i], color=colmap[i])\n",
    "plt.xlim(0, 80)\n",
    "plt.ylim(0, 80)\n",
    "plt.show()"
   ]
  },
  {
   "cell_type": "markdown",
   "metadata": {},
   "source": [
    "*Explain what you observe and what is your conclusion*"
   ]
  },
  {
   "cell_type": "markdown",
   "metadata": {
    "colab_type": "text",
    "id": "8891-WLgKnIp"
   },
   "source": [
    "### 6. Naive classifier (5 points)\n",
    "* Construct a naive classifier\n",
    "* Compare it to all the classifiers you implemented above"
   ]
  },
  {
   "cell_type": "markdown",
   "metadata": {},
   "source": [
    "naive bayes is a besian classifier , i get columns, and split  it size of 50-50 then applying "
   ]
  },
  {
   "cell_type": "code",
   "execution_count": null,
   "metadata": {},
   "outputs": [],
   "source": [
    "# your code goes here\n",
    "from sklearn.naive_bayes import GaussianNB\n",
    "from sklearn.metrics import confusion_matrix\n",
    "\n",
    "cols = x.columns\n",
    "num_cols = x._get_numeric_data().columns\n",
    "num_cols = x[num_cols]\n",
    "\n",
    "#train test split\n",
    "X_train, X_test, y_train, y_test = train_test_split(num_cols, y, test_size=0.5, random_state=0)\n",
    "#model\n",
    "gnb = GaussianNB()\n",
    "#fit\n",
    "y_pred = gnb.fit(X_train, y_train).predict(X_test)\n",
    "#print confusion metrics\n",
    "confusion_matrix(y_test, y_pred,labels=[1,0])"
   ]
  },
  {
   "cell_type": "markdown",
   "metadata": {},
   "source": [
    "*Explain what you observe and what is your conclusion*"
   ]
  },
  {
   "cell_type": "markdown",
   "metadata": {},
   "source": [
    "### 7. Best possible classifier (25 points)\n",
    "* Develop the best possible classifier using whatever you have learnt in this class.\n",
    "* Demonstrate performance in the best possible way to show that it is indeed the best possible classifer. "
   ]
  },
  {
   "cell_type": "markdown",
   "metadata": {
    "colab_type": "text",
    "deletable": false,
    "editable": false,
    "id": "1fjssLyWKnJJ"
   },
   "source": [
    "If you wish to merge all features into a single feature vector Xn you can follow the code below, assuming that Xnum corresponds to the vector of numerical features, Xcat categorical features, Xtext textual features, and Xpos the neighborhood feature. Change the code below to whatever is appropriate for you."
   ]
  },
  {
   "cell_type": "code",
   "execution_count": null,
   "metadata": {
    "colab": {},
    "colab_type": "code",
    "id": "SFdlg_CFKnJJ"
   },
   "outputs": [],
   "source": [
    "from scipy import sparse\n",
    "Xn = sparse.hstack((predictions, predictionsCat, textAcc, labels)).tocsr()"
   ]
  },
  {
   "cell_type": "markdown",
   "metadata": {},
   "source": [
    "*Explain what you do and why*"
   ]
  },
  {
   "cell_type": "code",
   "execution_count": null,
   "metadata": {
    "colab": {},
    "colab_type": "code",
    "id": "LEj4UjdzKnJO"
   },
   "outputs": [],
   "source": [
    "from sklearn.metrics import accuracy_score\n",
    "from sklearn.tree import DecisionTreeRegressor\n",
    "from sklearn.ensemble import RandomForestRegressor\n",
    "from sklearn.neighbors import KNeighborsRegressor\n",
    "from sklearn.svm import SVR\n",
    "from sklearn.linear_model import LogisticRegression\n",
    "from sklearn.ensemble import AdaBoostRegressor\n",
    "from sklearn.ensemble import GradientBoostingRegressor\n",
    "from xgboost import XGBRegressor\n",
    "from sklearn.linear_model import Lasso,Ridge,BayesianRidge,ElasticNet,HuberRegressor,LinearRegression,LogisticRegression,SGDRegressor\n",
    "from sklearn.metrics import mean_squared_error\n",
    "from sklearn.model_selection import KFold\n",
    "from sklearn.model_selection import cross_val_score\n",
    "from sklearn.model_selection import train_test_split\n",
    "import sklearn.metrics as metrics\n",
    "\n",
    "\n",
    "#here is the model which i used\n",
    "models = [['DecisionTree :',DecisionTreeRegressor()],\n",
    "           ['Logistic Regression :', LogisticRegression()],\n",
    "           ['RandomForest :',RandomForestRegressor()],\n",
    "           ['KNeighbours :', KNeighborsRegressor(n_neighbors = 2)],\n",
    "           ['SVM :', SVR()],\n",
    "           ['AdaBoostClassifier :', AdaBoostRegressor()],\n",
    "           ['GradientBoostingClassifier: ', GradientBoostingRegressor()],\n",
    "           ['Xgboost: ', XGBRegressor()],\n",
    "           ['Lasso: ', Lasso()],\n",
    "           ['Ridge: ', Ridge()],\n",
    "           ['BayesianRidge: ', BayesianRidge()],\n",
    "           ['ElasticNet: ', ElasticNet()],\n",
    "           ['HuberRegressor: ', HuberRegressor()]]\n",
    "\n",
    "print(\"Results...\")\n",
    "\n",
    "#enconding \n",
    "le = LabelEncoder()\n",
    "finalX = x.apply(le.fit_transform)\n",
    "\n",
    "prediction_from_model = 0\n",
    "names = []\n",
    "scoring = 'accuracy'\n",
    "X_train, X_test, y_train, y_test = train_test_split( finalX, y, test_size=0.33, random_state=42)\n",
    "for name,model in models:\n",
    "    model = model\n",
    "    model.fit(X_train, y_train)\n",
    "    predictions = model.predict(X_test)\n",
    "    prediction_from_model = predictions\n",
    "    print(name, (np.sqrt(mean_squared_error(y_test, predictions))))\n",
    "\n",
    "def plot_roc(actualvalue,probabilityvalue):\n",
    "    fpr,tpr,thresholds=metrics.roc_curve(actualvalue,probabilityvalue,drop_intermediate=False)\n",
    "    #Calculate the Area Under Curve Score\n",
    "    auc_score=metrics.roc_auc_score(actualvalue,probabilityvalue)\n",
    "    plt.figure(figsize=(5,5))\n",
    "    plt.plot(fpr,tpr,label='ROC Curve (area=%0.2f)'% auc_score)\n",
    "    plt.xlabel('False Positive Rate or [1 - True Negative Rate]')\n",
    "    plt.ylabel('True Positive Rate')\n",
    "    plt.title('Receiver operating characteristic example')\n",
    "    plt.legend(loc=\"lower right\")\n",
    "    plt.show()\n",
    "    return None\n",
    "plot_roc(y_test,prediction_from_model.round())"
   ]
  },
  {
   "cell_type": "markdown",
   "metadata": {
    "colab": {},
    "colab_type": "code",
    "id": "02EUnHxFKnJS"
   },
   "source": [
    "i applied 13 models in last question and all of them have different accuracy, than visualize ROC curve"
   ]
  },
  {
   "cell_type": "code",
   "execution_count": null,
   "metadata": {},
   "outputs": [],
   "source": []
  }
 ],
 "metadata": {
  "celltoolbar": "Edit Metadata",
  "colab": {
   "name": "Final.ipynb",
   "provenance": []
  },
  "kernelspec": {
   "display_name": "Python 3",
   "language": "python",
   "name": "python3"
  },
  "language_info": {
   "codemirror_mode": {
    "name": "ipython",
    "version": 3
   },
   "file_extension": ".py",
   "mimetype": "text/x-python",
   "name": "python",
   "nbconvert_exporter": "python",
   "pygments_lexer": "ipython3",
   "version": "3.7.4"
  }
 },
 "nbformat": 4,
 "nbformat_minor": 1
}
